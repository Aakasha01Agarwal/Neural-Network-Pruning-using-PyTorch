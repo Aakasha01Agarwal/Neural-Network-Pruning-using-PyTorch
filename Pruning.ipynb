{
 "cells": [
  {
   "cell_type": "code",
   "execution_count": 1,
   "metadata": {
    "colab": {},
    "colab_type": "code",
    "id": "EMQQzwhK_-Pi"
   },
   "outputs": [],
   "source": [
    "# import necessary libraries\n",
    "\n",
    "import torch\n",
    "import numpy as np\n",
    "import torch.nn.functional as F\n",
    "\n",
    "from torch import nn, optim\n",
    "from numpy import linalg as LA\n",
    "from scipy.stats import rankdata\n",
    "from collections import OrderedDict\n",
    "from torchvision import datasets, transforms\n",
    "from torch.utils.data.sampler import SubsetRandomSampler"
   ]
  },
  {
   "cell_type": "code",
   "execution_count": 2,
   "metadata": {
    "colab": {},
    "colab_type": "code",
    "id": "2N3wEfxnPGlT"
   },
   "outputs": [],
   "source": [
    "# required variables \n",
    "\n",
    "batch_size = 64  # batch size\n",
    "valid_size = 0.2  # validation set size: 20%\n",
    "epochs = 20  # number of epochs\n",
    "min_valid_loss = np.Inf  # min value for validation loss\n",
    "transform = transforms.ToTensor()  # necessary image transform i.e. conver tot Tensor "
   ]
  },
  {
   "cell_type": "code",
   "execution_count": 3,
   "metadata": {
    "colab": {},
    "colab_type": "code",
    "id": "gERAjvsUF4rf"
   },
   "outputs": [],
   "source": [
    "# Download the Train and Test set\n",
    "\n",
    "trainset = datasets.FashionMNIST('.', train=True, download=True, transform=transform)\n",
    "testset = datasets.FashionMNIST('.', train=False, download=True, transform=transform)"
   ]
  },
  {
   "cell_type": "code",
   "execution_count": 4,
   "metadata": {
    "colab": {},
    "colab_type": "code",
    "id": "SqJJerJuPvL9"
   },
   "outputs": [],
   "source": [
    "# Split the training set indices into training and validation set indices using 80:20 ratio\n",
    "\n",
    "len_trainset = len(trainset)\n",
    "index_list = list(range(len_trainset))\n",
    "np.random.shuffle(index_list)\n",
    "split_index = int(len_trainset * valid_size)\n",
    "train_indices, valid_indices = index_list[split_index:], index_list[:split_index]"
   ]
  },
  {
   "cell_type": "code",
   "execution_count": 5,
   "metadata": {
    "colab": {},
    "colab_type": "code",
    "id": "EMTr3uuYSC7Q"
   },
   "outputs": [],
   "source": [
    "# Create Samplers for training and validation set using the indices\n",
    "\n",
    "train_sampler = SubsetRandomSampler(train_indices)\n",
    "valid_sampler = SubsetRandomSampler(valid_indices)"
   ]
  },
  {
   "cell_type": "code",
   "execution_count": 6,
   "metadata": {
    "colab": {},
    "colab_type": "code",
    "id": "_C5Y-UUwG68T"
   },
   "outputs": [],
   "source": [
    "# Create loaders for train, validation and testing set using samplers\n",
    "\n",
    "trainloader = torch.utils.data.DataLoader(trainset, batch_size=batch_size, sampler=train_sampler)\n",
    "validloader = torch.utils.data.DataLoader(trainset, batch_size=batch_size, sampler=valid_sampler)\n",
    "testloader = torch.utils.data.DataLoader(testset, batch_size=batch_size, shuffle=True)"
   ]
  },
  {
   "cell_type": "code",
   "execution_count": 7,
   "metadata": {
    "colab": {},
    "colab_type": "code",
    "id": "YFR5XNrtJmlO"
   },
   "outputs": [],
   "source": [
    "# Model Architecture as descried in the given PDF\n",
    "\n",
    "\n",
    "class FMNISTClf(nn.Module):\n",
    "    def __init__(self):\n",
    "        super().__init__()\n",
    "        self.fc1 = nn.Linear(784, 1000, bias=False)\n",
    "        self.fc2 = nn.Linear(1000, 1000, bias=False)\n",
    "        self.fc3 = nn.Linear(1000, 500, bias=False)\n",
    "        self.fc4 = nn.Linear(500, 200, bias=False)\n",
    "        self.fc5 = nn.Linear(200, 10, bias=False)\n",
    "\n",
    "    def forward(self, x):\n",
    "        x = x.view(x.shape[0], -1)\n",
    "        x = F.relu(self.fc1(x))\n",
    "        x = F.relu(self.fc2(x))\n",
    "        x = F.relu(self.fc3(x))\n",
    "        x = F.relu(self.fc4(x))\n",
    "        x = F.log_softmax(self.fc5(x), dim=1)\n",
    "        return x"
   ]
  },
  {
   "cell_type": "code",
   "execution_count": 8,
   "metadata": {
    "colab": {
     "base_uri": "https://localhost:8080/",
     "height": 136
    },
    "colab_type": "code",
    "id": "KNG1fMVaMuFz",
    "outputId": "5bcd6ba0-3a3e-4810-c9ae-2da5cc64415f"
   },
   "outputs": [
    {
     "data": {
      "text/plain": [
       "FMNISTClf(\n",
       "  (fc1): Linear(in_features=784, out_features=1000, bias=False)\n",
       "  (fc2): Linear(in_features=1000, out_features=1000, bias=False)\n",
       "  (fc3): Linear(in_features=1000, out_features=500, bias=False)\n",
       "  (fc4): Linear(in_features=500, out_features=200, bias=False)\n",
       "  (fc5): Linear(in_features=200, out_features=10, bias=False)\n",
       ")"
      ]
     },
     "execution_count": 8,
     "metadata": {},
     "output_type": "execute_result"
    }
   ],
   "source": [
    "# Create model\n",
    "\n",
    "model = FMNISTClf()\n",
    "model"
   ]
  },
  {
   "cell_type": "code",
   "execution_count": 9,
   "metadata": {
    "colab": {},
    "colab_type": "code",
    "id": "OdEx22UtMwOb"
   },
   "outputs": [],
   "source": [
    "# Using CrossEntropy as my Loss function and Adam Optimizer with a learning rate of 0.01 \n",
    "\n",
    "criterion = nn.CrossEntropyLoss()\n",
    "optimizer = torch.optim.Adam(model.parameters(), lr=0.01)"
   ]
  },
  {
   "cell_type": "code",
   "execution_count": 10,
   "metadata": {
    "colab": {
     "base_uri": "https://localhost:8080/",
     "height": 476
    },
    "colab_type": "code",
    "id": "KHFk0iACTz7F",
    "outputId": "d598b6d4-6646-4393-8458-c462c59eccc5",
    "scrolled": true
   },
   "outputs": [
    {
     "name": "stdout",
     "output_type": "stream",
     "text": [
      "Epoch: 1 \tTraining Loss: 0.744186 \tValidation Loss: 0.479770\n",
      "Validation loss decreased (inf --> 0.47976952854792276).  Saving model ...\n",
      "Epoch: 2 \tTraining Loss: 0.508259 \tValidation Loss: 0.461102\n",
      "Validation loss decreased (0.47976952854792276 --> 0.4611016027927399).  Saving model ...\n",
      "Epoch: 3 \tTraining Loss: 0.452227 \tValidation Loss: 0.456838\n",
      "Validation loss decreased (0.4611016027927399 --> 0.4568377684752146).  Saving model ...\n",
      "Epoch: 4 \tTraining Loss: 0.423790 \tValidation Loss: 0.418976\n",
      "Validation loss decreased (0.4568377684752146 --> 0.41897608669598896).  Saving model ...\n",
      "Epoch: 5 \tTraining Loss: 0.435070 \tValidation Loss: 0.473471\n",
      "Epoch: 6 \tTraining Loss: 0.432210 \tValidation Loss: 0.441718\n",
      "Epoch: 7 \tTraining Loss: 0.429648 \tValidation Loss: 0.504991\n",
      "Epoch: 8 \tTraining Loss: 0.406071 \tValidation Loss: 0.429162\n",
      "Epoch: 9 \tTraining Loss: 0.406297 \tValidation Loss: 0.432117\n",
      "Epoch: 10 \tTraining Loss: 0.387194 \tValidation Loss: 0.425926\n",
      "Epoch: 11 \tTraining Loss: 0.415324 \tValidation Loss: 0.466729\n",
      "Epoch: 12 \tTraining Loss: 0.394866 \tValidation Loss: 0.436398\n",
      "Epoch: 13 \tTraining Loss: 0.385019 \tValidation Loss: 0.416802\n",
      "Validation loss decreased (0.41897608669598896 --> 0.41680206727981567).  Saving model ...\n",
      "Epoch: 14 \tTraining Loss: 0.379036 \tValidation Loss: 0.389542\n",
      "Validation loss decreased (0.41680206727981567 --> 0.38954162748654686).  Saving model ...\n",
      "Epoch: 15 \tTraining Loss: 0.364649 \tValidation Loss: 0.432584\n",
      "Epoch: 16 \tTraining Loss: 0.388917 \tValidation Loss: 0.422654\n",
      "Epoch: 17 \tTraining Loss: 0.384209 \tValidation Loss: 0.427221\n",
      "Epoch: 18 \tTraining Loss: 0.376686 \tValidation Loss: 0.410181\n",
      "Epoch: 19 \tTraining Loss: 0.365723 \tValidation Loss: 0.392201\n",
      "Epoch: 20 \tTraining Loss: 0.376238 \tValidation Loss: 0.566606\n"
     ]
    }
   ],
   "source": [
    "# Training\n",
    "\n",
    "for epoch in range(epochs):\n",
    "    train_loss = 0\n",
    "    valid_loss = 0\n",
    "    model.train()\n",
    "    # Training\n",
    "    for image, label in trainloader:\n",
    "        # Set Gradients to zero\n",
    "        optimizer.zero_grad()\n",
    "        # forward pass the image through the network\n",
    "        output = model(image)\n",
    "        # Get the loss\n",
    "        loss = criterion(output, label)\n",
    "        # Backward propagation\n",
    "        loss.backward()\n",
    "        # Optimization step\n",
    "        optimizer.step()\n",
    "        # Train loss is the loss multiplied by the batch size\n",
    "        train_loss += loss.item() * image.size(0)\n",
    "    model.eval()\n",
    "    # Validation\n",
    "    for image, label in validloader:\n",
    "        # forward pass the image through the network\n",
    "        output = model(image)\n",
    "        # Get the loss\n",
    "        loss = criterion(output, label)\n",
    "        # Validation loss is the loss multiplied by the batch size\n",
    "        valid_loss += loss.item() * image.size(0)\n",
    "\n",
    "    # Total train loss is the average of train loss, same for validation loss\n",
    "    train_loss = train_loss/len(trainloader.sampler)\n",
    "    valid_loss = valid_loss/len(validloader.sampler)\n",
    "  \n",
    "    print('Epoch: {} \\tTraining Loss: {:.6f} \\tValidation Loss: {:.6f}'.format(\n",
    "      epoch+1, \n",
    "      train_loss,\n",
    "      valid_loss\n",
    "      ))\n",
    "    \n",
    "    # save model only if validation loss has decreased\n",
    "    if valid_loss <= min_valid_loss:\n",
    "        print('Validation loss decreased ({} --> {}).  Saving model ...'.format(\n",
    "        min_valid_loss,\n",
    "        valid_loss))\n",
    "        torch.save(model.state_dict(), 'model.pt')\n",
    "        min_valid_loss = valid_loss"
   ]
  },
  {
   "cell_type": "code",
   "execution_count": 11,
   "metadata": {
    "colab": {},
    "colab_type": "code",
    "id": "KIgrOhKdWl0H"
   },
   "outputs": [],
   "source": [
    "# Function to check test accuracy\n",
    "\n",
    "def test_accuracy(model, testloader, criterion):\n",
    "    test_loss = 0.0\n",
    "    class_correct = list(0. for i in range(10))\n",
    "    class_total = list(0. for i in range(10))\n",
    "\n",
    "    model.eval()\n",
    "\n",
    "    for data, target in testloader:\n",
    "        # forward pass\n",
    "        output = model(data)\n",
    "        # Get the loss\n",
    "        loss = criterion(output, target)\n",
    "        # Test loss \n",
    "        test_loss += loss.item()*data.size(0)\n",
    "        # convert output probabilities to predicted class and get the max class\n",
    "        _, pred = torch.max(output, 1)\n",
    "        # compare prediction with true label\n",
    "        correct = np.squeeze(pred.eq(target.data.view_as(pred)))\n",
    "        # calculate test accuracy for each object class\n",
    "        for i in range(len(target)):\n",
    "            label = target.data[i]\n",
    "            class_correct[label] += correct[i].item()\n",
    "            class_total[label] += 1\n",
    "    # Overall accuracy\n",
    "    overall_accuracy = 100. * np.sum(class_correct) / np.sum(class_total)\n",
    "    return overall_accuracy"
   ]
  },
  {
   "cell_type": "code",
   "execution_count": 12,
   "metadata": {
    "colab": {},
    "colab_type": "code",
    "id": "cKBQ78AbGXOK"
   },
   "outputs": [],
   "source": [
    "# Prune ranges provided in the PDF\n",
    "\n",
    "prune_percentage = [.0, .25, .50, .60, .70, .80, .90, .95, .97, .99]\n",
    "accuracies_wp = []\n",
    "accuracies_np = []\n",
    "\n",
    "# Get the accuracy without any pruning \n",
    "initial_accuracy = test_accuracy(model, testloader, criterion)\n",
    "accuracies_wp.append(initial_accuracy)\n",
    "accuracies_np.append(initial_accuracy)"
   ]
  },
  {
   "cell_type": "code",
   "execution_count": 13,
   "metadata": {
    "colab": {},
    "colab_type": "code",
    "id": "Q2AUYGISL1h2"
   },
   "outputs": [],
   "source": [
    "# Weight Pruning\n",
    "\n",
    "# Loop through each prune percent\n",
    "for k in prune_percentage[1:]:\n",
    "    # Load the original unprunned model\n",
    "    model = FMNISTClf()\n",
    "    model.load_state_dict(torch.load('model.pt'))\n",
    "    # Get all the weights\n",
    "    weights = model.state_dict()\n",
    "    # Get keys to access model weights\n",
    "    layers = list(model.state_dict())\n",
    "    ranks = {}\n",
    "    pruned_weights = []\n",
    "    # For each layer except the output one\n",
    "    for l in layers[:-1]:\n",
    "        # Get weights for each layer and conver to numpy \n",
    "        data = weights[l]\n",
    "        w = np.array(data)\n",
    "        # Rank the weights element wise and reshape rank elements as the model weights\n",
    "        ranks[l]=(rankdata(np.abs(w), method='dense') - 1).astype(int).reshape(w.shape)\n",
    "        # Get the threshold value based on the value of k(prune percentage) \n",
    "        lower_bound_rank = np.ceil(np.max(ranks[l]) * k).astype(int)\n",
    "        # Assign rank elements to 0 that are less than or equal to the threshold and 1 to those that are above.\n",
    "        ranks[l][ranks[l] <= lower_bound_rank] = 0\n",
    "        ranks[l][ranks[l] > lower_bound_rank] = 1\n",
    "        # Multiply weights array with ranks to zero out the lower ranked weights\n",
    "        w = w * ranks[l]\n",
    "        # Assign the updated weights as tensor to data and append to the pruned_weights list \n",
    "        data[...] = torch.from_numpy(w)\n",
    "        pruned_weights.append(data)\n",
    "    # Append the last layer weights as it is\n",
    "    pruned_weights.append(weights[layers[-1]])\n",
    "    # Update the model weights with all the updated weights \n",
    "    new_state_dict = OrderedDict()\n",
    "    for l, pw in zip(layers, pruned_weights):\n",
    "        new_state_dict[l] = pw\n",
    "    model.state_dict = new_state_dict\n",
    "    # append the test accuracy to accuracies_wp\n",
    "    accuracies_wp.append(test_accuracy(model, testloader, criterion))"
   ]
  },
  {
   "cell_type": "code",
   "execution_count": 14,
   "metadata": {
    "colab": {},
    "colab_type": "code",
    "id": "kuU40zos85y1"
   },
   "outputs": [],
   "source": [
    "# Neuron Pruning\n",
    "# Code is almost same as above so comments are provided for only different parts of code\n",
    "\n",
    "for k in prune_percentage[1:]:\n",
    "    model = FMNISTClf()\n",
    "    model.load_state_dict(torch.load('model.pt'))\n",
    "    weights = model.state_dict()\n",
    "    layers = list(model.state_dict())\n",
    "    ranks = {}\n",
    "    pruned_weights = []\n",
    "    for l in layers[:-1]:\n",
    "        data = weights[l]\n",
    "        w = np.array(data)\n",
    "        # taking norm for each neuron\n",
    "        norm = LA.norm(w, axis=0)\n",
    "        # repeat the norm values to get the shape similar to that of layer weights\n",
    "        norm = np.tile(norm, (w.shape[0],1))\n",
    "        ranks[l] = (rankdata(norm, method='dense') - 1).astype(int).reshape(norm.shape)\n",
    "        lower_bound_rank = np.ceil(np.max(ranks[l])*k).astype(int)\n",
    "        ranks[l][ranks[l] <= lower_bound_rank] = 0\n",
    "        ranks[l][ranks[l] > lower_bound_rank] = 1\n",
    "        w = w * ranks[l]\n",
    "        data[...] = torch.from_numpy(w)\n",
    "        pruned_weights.append(data)\n",
    "    pruned_weights.append(weights[layers[-1]])\n",
    "    new_state_dict = OrderedDict()\n",
    "    for l, pw in zip(layers, pruned_weights):\n",
    "        new_state_dict[l] = pw\n",
    "    model.state_dict = new_state_dict\n",
    "    accuracies_np.append(test_accuracy(model, testloader, criterion))\n"
   ]
  },
  {
   "cell_type": "code",
   "execution_count": 16,
   "metadata": {
    "colab": {
     "base_uri": "https://localhost:8080/",
     "height": 279
    },
    "colab_type": "code",
    "id": "BILpYqa-861c",
    "outputId": "a368b56c-1004-4885-f8c3-8a4a80d70cdd"
   },
   "outputs": [
    {
     "data": {
      "image/png": "[encoded data removed]",
      "text/plain": [
       "<Figure size 432x288 with 1 Axes>"
      ]
     },
     "metadata": {
      "needs_background": "light"
     },
     "output_type": "display_data"
    }
   ],
   "source": [
    "# Plot the sparsity vs accuracy graph\n",
    "\n",
    "import matplotlib.pyplot as plt\n",
    "plt.plot(prune_percentage, accuracies_np, label='Neuron Pruning')\n",
    "plt.plot(prune_percentage, accuracies_wp, label='Weight Pruning')\n",
    "plt.legend(loc='best')\n",
    "plt.xlabel('% sparsity')\n",
    "plt.ylabel('% accuracy')\n",
    "plt.show()"
   ]
  },
  {
   "cell_type": "code",
   "execution_count": null,
   "metadata": {
    "colab": {},
    "colab_type": "code",
    "id": "jwmjYdUu7mCq"
   },
   "outputs": [],
   "source": []
  }
 ],
 "metadata": {
  "accelerator": "GPU",
  "colab": {
   "collapsed_sections": [],
   "name": "Autograd AI Problem Solution.ipynb",
   "provenance": []
  },
  "kernelspec": {
   "display_name": "Python 3",
   "language": "python",
   "name": "python3"
  },
  "language_info": {
   "codemirror_mode": {
    "name": "ipython",
    "version": 3
   },
   "file_extension": ".py",
   "mimetype": "text/x-python",
   "name": "python",
   "nbconvert_exporter": "python",
   "pygments_lexer": "ipython3",
   "version": "3.7.6"
  }
 },
 "nbformat": 4,
 "nbformat_minor": 1
}
